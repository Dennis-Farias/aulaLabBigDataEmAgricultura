{
  "cells": [
    {
      "cell_type": "markdown",
      "metadata": {
        "id": "view-in-github",
        "colab_type": "text"
      },
      "source": [
        "<a href=\"https://colab.research.google.com/github/Dennis-Farias/aulaLabBigDataEmAgricultura/blob/main/Atividade04.ipynb\" target=\"_parent\"><img src=\"https://colab.research.google.com/assets/colab-badge.svg\" alt=\"Open In Colab\"/></a>"
      ]
    },
    {
      "cell_type": "code",
      "execution_count": 26,
      "metadata": {
        "id": "kb3JRqCb3Ldk"
      },
      "outputs": [],
      "source": [
        "import pandas as pd"
      ]
    },
    {
      "cell_type": "code",
      "execution_count": null,
      "metadata": {
        "id": "h7dJkvNC3nOU"
      },
      "outputs": [],
      "source": [
        "base = pd.read_csv('/content/adult.data')\n",
        "base.head()"
      ]
    },
    {
      "cell_type": "code",
      "execution_count": 28,
      "metadata": {
        "id": "h5sNJIFD55cX"
      },
      "outputs": [],
      "source": [
        "previsores = base.iloc[:, 0:14].values\n",
        "classe = base.iloc[:, 14].values"
      ]
    },
    {
      "cell_type": "code",
      "execution_count": null,
      "metadata": {
        "id": "UUEquDZe6ijl"
      },
      "outputs": [],
      "source": [
        "previsores"
      ]
    },
    {
      "cell_type": "code",
      "execution_count": null,
      "metadata": {
        "id": "v5nfI4Pf6jR2"
      },
      "outputs": [],
      "source": [
        "classe"
      ]
    },
    {
      "cell_type": "code",
      "execution_count": 31,
      "metadata": {
        "id": "tb3aQpLi6wJp"
      },
      "outputs": [],
      "source": [
        "from sklearn.preprocessing import LabelEncoder\n",
        "label_previsores = LabelEncoder()\n",
        "label_classe = LabelEncoder()"
      ]
    },
    {
      "cell_type": "code",
      "execution_count": null,
      "metadata": {
        "id": "-oP_i7II7z-8"
      },
      "outputs": [],
      "source": [
        "previsores[:, 1] = label_previsores.fit_transform(previsores[:, 1])\n",
        "previsores[:, 3] = label_previsores.fit_transform(previsores[:, 3])\n",
        "previsores[:, 5] = label_previsores.fit_transform(previsores[:, 5])\n",
        "previsores[:, 6] = label_previsores.fit_transform(previsores[:, 6])\n",
        "previsores[:, 7] = label_previsores.fit_transform(previsores[:, 7])\n",
        "previsores[:, 8] = label_previsores.fit_transform(previsores[:, 8])\n",
        "previsores[:, 9] = label_previsores.fit_transform(previsores[:, 9])\n",
        "previsores[:, 13] = label_previsores.fit_transform(previsores[:, 13])\n",
        "previsores"
      ]
    },
    {
      "cell_type": "code",
      "execution_count": null,
      "metadata": {
        "id": "oYpZB1iO9pEF"
      },
      "outputs": [],
      "source": [
        "from sklearn.preprocessing import StandardScaler\n",
        "scaler = StandardScaler()\n",
        "previsores = scaler.fit_transform(previsores)\n",
        "previsores"
      ]
    },
    {
      "cell_type": "code",
      "execution_count": 34,
      "metadata": {
        "id": "XKbtn81j-fGh"
      },
      "outputs": [],
      "source": [
        "from sklearn.model_selection import train_test_split\n",
        "previsores_treinamento, previsores_teste, classe_treinamento, classe_teste = train_test_split(previsores, classe, test_size=0.15, random_state=0)"
      ]
    },
    {
      "cell_type": "code",
      "source": [
        "from sklearn.ensemble import RandomForestClassifier\n",
        "classificador = RandomForestClassifier(n_estimators=100, random_state=0)\n",
        "classificador.fit(previsores_treinamento, classe_treinamento)\n",
        "previsoes = classificador.predict(previsores_teste)"
      ],
      "metadata": {
        "id": "xmhArk05XA_H"
      },
      "execution_count": 35,
      "outputs": []
    },
    {
      "cell_type": "code",
      "source": [
        "from sklearn.metrics import confusion_matrix, accuracy_score\n",
        "\n",
        "# Matriz de confusão\n",
        "matriz = confusion_matrix(classe_teste, previsoes)\n",
        "\n",
        "# Acurácia\n",
        "acuracia = accuracy_score(classe_teste, previsoes)\n",
        "\n",
        "# Precisão\n",
        "precisao = matriz[0, 0] / (matriz[0, 0] + matriz[0, 1])\n",
        "\n",
        "# Sensibilidade (Recall)\n",
        "sensibilidade = matriz[0, 0] / (matriz[0, 0] + matriz[1, 0])\n",
        "\n",
        "print('Matriz de confusão:\\n', matriz)\n",
        "print('Acurácia:', acuracia)\n",
        "print('Precisão:', precisao)\n",
        "print('Sensibilidade:', sensibilidade)\n"
      ],
      "metadata": {
        "colab": {
          "base_uri": "https://localhost:8080/"
        },
        "id": "OIoWg7IkXcvt",
        "outputId": "910f5991-e502-497e-abef-e1fe6d174231"
      },
      "execution_count": 49,
      "outputs": [
        {
          "output_type": "stream",
          "name": "stdout",
          "text": [
            "Matriz de confusão:\n",
            " [[3511  248]\n",
            " [ 424  701]]\n",
            "Acurácia: 0.8624078624078624\n",
            "Precisão: 0.934025006650705\n",
            "Sensibilidade: 0.8922490470139771\n"
          ]
        }
      ]
    }
  ],
  "metadata": {
    "colab": {
      "provenance": [],
      "authorship_tag": "ABX9TyPYGrZeuO5f5u25K86j4Wuo",
      "include_colab_link": true
    },
    "kernelspec": {
      "display_name": "Python 3",
      "name": "python3"
    },
    "language_info": {
      "name": "python"
    }
  },
  "nbformat": 4,
  "nbformat_minor": 0
}