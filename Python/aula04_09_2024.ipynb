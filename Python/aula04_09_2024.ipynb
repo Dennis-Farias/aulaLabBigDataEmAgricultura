{
  "nbformat": 4,
  "nbformat_minor": 0,
  "metadata": {
    "colab": {
      "provenance": [],
      "authorship_tag": "ABX9TyOn3kKErwCFSddB5Wk+HT5z",
      "include_colab_link": true
    },
    "kernelspec": {
      "name": "python3",
      "display_name": "Python 3"
    },
    "language_info": {
      "name": "python"
    }
  },
  "cells": [
    {
      "cell_type": "markdown",
      "metadata": {
        "id": "view-in-github",
        "colab_type": "text"
      },
      "source": [
        "<a href=\"https://colab.research.google.com/github/Dennis-Farias/aulaLabBigDataEmAgricultura/blob/main/aula04_09_2024.ipynb\" target=\"_parent\"><img src=\"https://colab.research.google.com/assets/colab-badge.svg\" alt=\"Open In Colab\"/></a>"
      ]
    },
    {
      "cell_type": "code",
      "execution_count": null,
      "metadata": {
        "id": "GjC2ZX3X7CWJ"
      },
      "outputs": [],
      "source": [
        "import pandas as pd\n",
        "import numpy as np\n",
        "import matplotlib.pyplot as plt\n",
        "from sklearn.linear_model import LinearRegression\n",
        "from sklearn.metrics import r2_score\n",
        "import statsmodels.api as sm"
      ]
    },
    {
      "cell_type": "code",
      "source": [
        "base = pd.read_csv('Advertising.csv')\n",
        "base.head()"
      ],
      "metadata": {
        "id": "zqOP6-x28nMg"
      },
      "execution_count": null,
      "outputs": []
    },
    {
      "cell_type": "code",
      "source": [
        "print(base.describe())"
      ],
      "metadata": {
        "id": "geIVk0DC93to"
      },
      "execution_count": null,
      "outputs": []
    },
    {
      "cell_type": "code",
      "source": [
        "plt.figure(figsize = (16,8))\n",
        "plt.scatter(base['TV'], base['sales'], c='red')\n",
        "plt.xlabel(' ($) Gasto em propaganda de TV')\n",
        "plt.ylabel(' ($) Vendas')\n",
        "plt.show()"
      ],
      "metadata": {
        "id": "pHDlIXIE-Lab"
      },
      "execution_count": null,
      "outputs": []
    },
    {
      "cell_type": "code",
      "source": [
        "x = base['TV'].values.reshape(-1,1)\n",
        "y = base['sales'].values.reshape(-1,1)\n",
        "\n",
        "reg = LinearRegression()\n",
        "reg.fit(x,y)\n",
        "\n",
        "print(\"O modelo é: Vendas = {:.5} + {:.5}X\".format(reg.intercept_[0], reg.coef_[0][0]))"
      ],
      "metadata": {
        "id": "ACsAzT6lAJ8I"
      },
      "execution_count": null,
      "outputs": []
    },
    {
      "cell_type": "code",
      "source": [
        "f_previsoes = reg.predict(x)\n",
        "plt.figure(figsize = (16,8))\n",
        "plt.scatter(base['TV'], base['sales'], c='red')\n",
        "plt.plot(base['TV'], f_previsoes, c='blue', linewidth=3, linestyle=':')\n",
        "plt.xlabel(' ($) Gasto em propaganda de TV')\n",
        "plt.ylabel(' ($) Vendas')\n",
        "plt.show()"
      ],
      "metadata": {
        "id": "VHPagmJYDOXV"
      },
      "execution_count": null,
      "outputs": []
    },
    {
      "cell_type": "code",
      "source": [
        "x = base['TV']\n",
        "y = base['sales']\n",
        "X2 = sm.add_constant(x)\n",
        "est = sm.OLS(y, X2)\n",
        "est2 = est.fit()\n",
        "print(est2.summary())"
      ],
      "metadata": {
        "id": "pQjOudLlESXq"
      },
      "execution_count": null,
      "outputs": []
    },
    {
      "cell_type": "code",
      "source": [
        "Xs = base.drop(['sales', 'Unnamed: 0'], axis=1)\n",
        "y = base['sales'].values.reshape(-1, 1)\n",
        "rl = LinearRegression()\n",
        "rl.fit(Xs, y)\n",
        "\n",
        "print(\"O modelo é: Vendas = {:.5} + {:.5}*TV + {:.5}*radio + {:.5}*newspaper\".format(rl.intercept_[0], rl.coef_[0][0], rl.coef_[0][1], rl.coef_[0][2]))"
      ],
      "metadata": {
        "id": "nGGNVU72GqvY"
      },
      "execution_count": null,
      "outputs": []
    },
    {
      "cell_type": "code",
      "source": [
        "x = np.column_stack((base['TV'], base['radio'], base['newspaper']))\n",
        "y = base['sales']\n",
        "\n",
        "X2 = sm.add_constant(x)\n",
        "est = sm.OLS(y, X2)\n",
        "est2 = est.fit()\n",
        "\n",
        "print(est2.summary())\n"
      ],
      "metadata": {
        "id": "tCWIk6ceIEJN"
      },
      "execution_count": null,
      "outputs": []
    }
  ]
}