{
  "nbformat": 4,
  "nbformat_minor": 0,
  "metadata": {
    "colab": {
      "provenance": [],
      "authorship_tag": "ABX9TyOP25u2gkmcjckT+gjIQHXg",
      "include_colab_link": true
    },
    "kernelspec": {
      "name": "python3",
      "display_name": "Python 3"
    },
    "language_info": {
      "name": "python"
    }
  },
  "cells": [
    {
      "cell_type": "markdown",
      "metadata": {
        "id": "view-in-github",
        "colab_type": "text"
      },
      "source": [
        "<a href=\"https://colab.research.google.com/github/Dennis-Farias/aulaLabBigDataEmAgricultura/blob/main/aula11_09_2024.ipynb\" target=\"_parent\"><img src=\"https://colab.research.google.com/assets/colab-badge.svg\" alt=\"Open In Colab\"/></a>"
      ]
    },
    {
      "cell_type": "code",
      "execution_count": 1,
      "metadata": {
        "id": "FG1Fg2txSGqh"
      },
      "outputs": [],
      "source": [
        "import pandas as pd\n",
        "from sklearn.preprocessing import StandardScaler\n",
        "from sklearn.cluster import KMeans\n",
        "import matplotlib.pyplot as plt\n",
        "from sklearn.datasets import load_iris"
      ]
    },
    {
      "cell_type": "code",
      "source": [
        "iris = load_iris()\n",
        "#print(iris.target)\n",
        "#print(iris.data)\n",
        "#print(iris.target_names)\n",
        "#print(iris.feature_names)"
      ],
      "metadata": {
        "id": "dMaA-QpcSt-l",
        "colab": {
          "base_uri": "https://localhost:8080/"
        },
        "outputId": "2133cbe6-074e-4874-bc28-9c1639da2520"
      },
      "execution_count": 12,
      "outputs": [
        {
          "output_type": "stream",
          "name": "stdout",
          "text": [
            "['sepal length (cm)', 'sepal width (cm)', 'petal length (cm)', 'petal width (cm)']\n"
          ]
        }
      ]
    },
    {
      "cell_type": "code",
      "source": [
        "X = iris.data\n",
        "scaler = StandardScaler()\n",
        "X = scaler.fit_transform(X)"
      ],
      "metadata": {
        "id": "KitNyQ_0TSZE"
      },
      "execution_count": 3,
      "outputs": []
    },
    {
      "cell_type": "code",
      "source": [
        "wcss = []\n",
        "for i in range(1, 11):\n",
        "    kmeans = KMeans(n_clusters=i, init='random')\n",
        "    kmeans.fit(X)\n",
        "    print(i, kmeans.inertia_)\n",
        "    wcss.append(kmeans.inertia_)\n",
        "plt.plot(range(1,11), wcss)\n",
        "plt.title('O Método Elbow')\n",
        "plt.xlabel('Número de Clusters')\n",
        "plt.ylabel('WSS') #within cluster sum of squares\n",
        "plt.show()"
      ],
      "metadata": {
        "id": "QDu2wknwTsNF"
      },
      "execution_count": null,
      "outputs": []
    },
    {
      "cell_type": "code",
      "source": [
        "# Aplicando o algoritmo K-means\n",
        "kmeans = KMeans(n_clusters=3, init='random')\n",
        "kmeans.fit(X)\n",
        "\n",
        "# Examinando os dados agrupados (centroides)\n",
        "#print(kmeans.cluster_centers_)\n",
        "\n",
        "distance = kmeans.fit_transform(X)\n",
        "#print(distance)\n",
        "\n",
        "# Conferindo os dados do cluster\n",
        "labels = kmeans.labels_\n",
        "print(labels)"
      ],
      "metadata": {
        "id": "zK1o1it1U4-l"
      },
      "execution_count": null,
      "outputs": []
    },
    {
      "cell_type": "code",
      "source": [
        "data = [[4.12, 3.4, 1.6, 0.7]]\n",
        "kmeans.predict(data)"
      ],
      "metadata": {
        "id": "0FJ3YsaKVklt"
      },
      "execution_count": null,
      "outputs": []
    },
    {
      "cell_type": "code",
      "source": [
        "plt.scatter(X[:,0], X[:,1], s = 100, c = kmeans.labels_)\n",
        "plt.title('Iris Clusters and Centroids')\n",
        "plt.xlabel('SepalLength')\n",
        "plt.ylabel('SepalWidth')\n",
        "plt.legend()\n",
        "plt.show()"
      ],
      "metadata": {
        "id": "YQZHN054VxAq"
      },
      "execution_count": null,
      "outputs": []
    }
  ]
}