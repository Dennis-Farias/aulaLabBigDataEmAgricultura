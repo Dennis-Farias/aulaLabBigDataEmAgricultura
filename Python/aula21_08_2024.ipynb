{
  "nbformat": 4,
  "nbformat_minor": 0,
  "metadata": {
    "colab": {
      "provenance": [],
      "authorship_tag": "ABX9TyMo0n/tRRtYibP+OCmlk0K+",
      "include_colab_link": true
    },
    "kernelspec": {
      "name": "python3",
      "display_name": "Python 3"
    },
    "language_info": {
      "name": "python"
    }
  },
  "cells": [
    {
      "cell_type": "markdown",
      "metadata": {
        "id": "view-in-github",
        "colab_type": "text"
      },
      "source": [
        "<a href=\"https://colab.research.google.com/github/Dennis-Farias/aulaLabBigDataEmAgricultura/blob/main/aula21_08_2024.ipynb\" target=\"_parent\"><img src=\"https://colab.research.google.com/assets/colab-badge.svg\" alt=\"Open In Colab\"/></a>"
      ]
    },
    {
      "cell_type": "code",
      "execution_count": null,
      "metadata": {
        "id": "CftDCmlU0XOo"
      },
      "outputs": [],
      "source": [
        "import pandas as pd"
      ]
    },
    {
      "cell_type": "code",
      "source": [
        "base_credito = pd.read_csv('/content/risco_credito.csv', sep=';')\n",
        "base_credito"
      ],
      "metadata": {
        "id": "ncyDvkUq0yKA"
      },
      "execution_count": null,
      "outputs": []
    },
    {
      "cell_type": "code",
      "source": [
        "x_risco_credito = base_credito.iloc[:, 0:4].values\n",
        "x_risco_credito"
      ],
      "metadata": {
        "id": "iws37Ejh1frA"
      },
      "execution_count": null,
      "outputs": []
    },
    {
      "cell_type": "code",
      "source": [
        "y_risco_credito = base_credito.iloc[:, 4].values\n",
        "y_risco_credito"
      ],
      "metadata": {
        "id": "risGveqS1122"
      },
      "execution_count": null,
      "outputs": []
    },
    {
      "cell_type": "code",
      "source": [
        "from sklearn.preprocessing import LabelEncoder\n",
        "label_encoder_historia = LabelEncoder()\n",
        "label_encoder_divida = LabelEncoder()\n",
        "label_encoder_garantia = LabelEncoder()\n",
        "label_encoder_renda = LabelEncoder()"
      ],
      "metadata": {
        "id": "1wheXcoM17c4"
      },
      "execution_count": null,
      "outputs": []
    },
    {
      "cell_type": "code",
      "source": [
        "x_risco_credito[:, 0] = label_encoder_historia.fit_transform(x_risco_credito[:, 0])\n",
        "x_risco_credito[:, 1] = label_encoder_divida.fit_transform(x_risco_credito[:, 1])\n",
        "x_risco_credito[:, 2] = label_encoder_garantia.fit_transform(x_risco_credito[:, 2])\n",
        "x_risco_credito[:, 3] = label_encoder_renda.fit_transform(x_risco_credito[:, 3])"
      ],
      "metadata": {
        "id": "kjmdBf8d5eDR"
      },
      "execution_count": null,
      "outputs": []
    },
    {
      "cell_type": "code",
      "source": [
        "x_risco_credito"
      ],
      "metadata": {
        "id": "tt5qXF1O66eI"
      },
      "execution_count": null,
      "outputs": []
    },
    {
      "cell_type": "code",
      "source": [
        "from sklearn.model_selection import train_test_split\n",
        "x_treino, x_teste, y_treino, y_teste = train_test_split(x_risco_credito, y_risco_credito, test_size=0.1, random_state=0)"
      ],
      "metadata": {
        "id": "I5YCJXmP81Kl"
      },
      "execution_count": null,
      "outputs": []
    },
    {
      "cell_type": "code",
      "source": [
        "from sklearn.naive_bayes import GaussianNB\n",
        "naive_risco_credito = GaussianNB()\n",
        "naive_risco_credito.fit(x_treino, y_treino)"
      ],
      "metadata": {
        "id": "J5LpEkzE9K2-"
      },
      "execution_count": null,
      "outputs": []
    },
    {
      "cell_type": "code",
      "source": [
        "previsoes = naive_risco_credito.predict([[0,0,1,2], [2,0,0,0], [1,1,1,1]])\n",
        "previsoes"
      ],
      "metadata": {
        "id": "cftGR-lP9Sj7"
      },
      "execution_count": null,
      "outputs": []
    },
    {
      "cell_type": "code",
      "source": [
        "previsoes = naive_risco_credito.predict(x_teste)\n",
        "previsoes"
      ],
      "metadata": {
        "id": "BxdKBO1t9hpN"
      },
      "execution_count": null,
      "outputs": []
    }
  ]
}