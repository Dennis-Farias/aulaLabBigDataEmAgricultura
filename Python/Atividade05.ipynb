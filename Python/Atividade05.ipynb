{
  "nbformat": 4,
  "nbformat_minor": 0,
  "metadata": {
    "colab": {
      "provenance": [],
      "authorship_tag": "ABX9TyMdnNWj3nd9OdfFIiMF/JQ/",
      "include_colab_link": true
    },
    "kernelspec": {
      "name": "python3",
      "display_name": "Python 3"
    },
    "language_info": {
      "name": "python"
    }
  },
  "cells": [
    {
      "cell_type": "markdown",
      "metadata": {
        "id": "view-in-github",
        "colab_type": "text"
      },
      "source": [
        "<a href=\"https://colab.research.google.com/github/Dennis-Farias/aulaLabBigDataEmAgricultura/blob/main/Atividade05.ipynb\" target=\"_parent\"><img src=\"https://colab.research.google.com/assets/colab-badge.svg\" alt=\"Open In Colab\"/></a>"
      ]
    },
    {
      "cell_type": "markdown",
      "source": [
        "# Modelo de Regressão Linear Simples"
      ],
      "metadata": {
        "id": "SC94FlO5cIh4"
      }
    },
    {
      "cell_type": "code",
      "execution_count": null,
      "metadata": {
        "id": "GjC2ZX3X7CWJ"
      },
      "outputs": [],
      "source": [
        "import pandas as pd\n",
        "import numpy as np\n",
        "import matplotlib.pyplot as plt\n",
        "from sklearn.linear_model import LinearRegression\n",
        "from sklearn.metrics import r2_score\n",
        "import statsmodels.api as sm"
      ]
    },
    {
      "cell_type": "code",
      "source": [
        "# Carregando os dados\n",
        "data = pd.read_csv('/content/machine.data', header=None)\n",
        "\n",
        "# Verificando o número de colunas\n",
        "print(f\"Número de colunas: {data.shape[1]}\")\n",
        "\n",
        "# Ajustando os nomes das colunas\n",
        "column_names = ['manufacturer', 'model', 'system_class', 'cache_size', 'memory_size', 'disk_size', 'cpu_count', 'core_count_per_cpu', 'total_cores', 'performance_index']\n",
        "\n",
        "# Atribuindo os nomes das colunas ao DataFrame\n",
        "data.columns = column_names\n",
        "\n",
        "# Exibindo o DataFrame resultante\n",
        "data.head()"
      ],
      "metadata": {
        "id": "zqOP6-x28nMg"
      },
      "execution_count": null,
      "outputs": []
    },
    {
      "cell_type": "code",
      "source": [
        "print(data.describe())"
      ],
      "metadata": {
        "id": "geIVk0DC93to"
      },
      "execution_count": null,
      "outputs": []
    },
    {
      "cell_type": "code",
      "source": [
        "plt.figure(figsize = (16,8))\n",
        "plt.scatter(data['memory_size'], data['performance_index'], c='red')\n",
        "plt.xlabel('Memória Principal Máxima')\n",
        "plt.ylabel('Desempenho Estimado')\n",
        "plt.show()"
      ],
      "metadata": {
        "id": "pHDlIXIE-Lab"
      },
      "execution_count": null,
      "outputs": []
    },
    {
      "cell_type": "code",
      "source": [
        "x = data['memory_size'].values.reshape(-1,1)\n",
        "y = data['performance_index'].values.reshape(-1,1)\n",
        "\n",
        "reg = LinearRegression()\n",
        "reg.fit(x,y)\n",
        "\n",
        "print(\"O modelo é: Desempenho = {:.5} + {:.5}X\".format(reg.intercept_[0], reg.coef_[0][0]))"
      ],
      "metadata": {
        "id": "ACsAzT6lAJ8I"
      },
      "execution_count": null,
      "outputs": []
    },
    {
      "cell_type": "code",
      "source": [
        "f_previsoes = reg.predict(x)\n",
        "plt.figure(figsize = (16,8))\n",
        "plt.scatter(data['memory_size'], data['performance_index'], c='red')\n",
        "plt.plot(data['memory_size'], f_previsoes, c='blue', linewidth=3, linestyle=':')\n",
        "plt.xlabel('Memória Principal Máxima')\n",
        "plt.ylabel('Desempenho Estimado')\n",
        "plt.show()"
      ],
      "metadata": {
        "id": "VHPagmJYDOXV"
      },
      "execution_count": null,
      "outputs": []
    },
    {
      "cell_type": "code",
      "source": [
        "x = data['memory_size']\n",
        "y = data['performance_index']\n",
        "X2 = sm.add_constant(x)\n",
        "est = sm.OLS(y, X2)\n",
        "est2 = est.fit()\n",
        "print(est2.summary())"
      ],
      "metadata": {
        "id": "pQjOudLlESXq"
      },
      "execution_count": null,
      "outputs": []
    },
    {
      "cell_type": "markdown",
      "source": [
        "# Modelo de Regressão Linear Múltipla"
      ],
      "metadata": {
        "id": "-NhflDt-cDJO"
      }
    },
    {
      "cell_type": "code",
      "source": [
        "numerical_columns = ['system_class', 'cache_size', 'memory_size', 'core_count_per_cpu', 'total_cores']\n",
        "X = data[numerical_columns]\n",
        "y = data['performance_index']\n",
        "\n",
        "rl = LinearRegression()\n",
        "rl.fit(X, y)\n"
      ],
      "metadata": {
        "id": "_L8e-lEbYSif"
      },
      "execution_count": null,
      "outputs": []
    },
    {
      "cell_type": "code",
      "source": [
        "x = np.column_stack((data['system_class'], data['cache_size'], data['memory_size'], data['core_count_per_cpu'], data['total_cores']))\n",
        "y = data['performance_index']\n",
        "\n",
        "X2 = sm.add_constant(x)\n",
        "est = sm.OLS(y, X2)\n",
        "est2 = est.fit()\n",
        "\n",
        "print(est2.summary())\n"
      ],
      "metadata": {
        "id": "tCWIk6ceIEJN"
      },
      "execution_count": null,
      "outputs": []
    }
  ]
}