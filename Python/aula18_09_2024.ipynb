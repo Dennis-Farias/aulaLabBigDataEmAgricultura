{
  "nbformat": 4,
  "nbformat_minor": 0,
  "metadata": {
    "colab": {
      "provenance": [],
      "authorship_tag": "ABX9TyOR6EhJdZwXqOEFlEso+Ulo",
      "include_colab_link": true
    },
    "kernelspec": {
      "name": "python3",
      "display_name": "Python 3"
    },
    "language_info": {
      "name": "python"
    }
  },
  "cells": [
    {
      "cell_type": "markdown",
      "metadata": {
        "id": "view-in-github",
        "colab_type": "text"
      },
      "source": [
        "<a href=\"https://colab.research.google.com/github/Dennis-Farias/aulaLabBigDataEmAgricultura/blob/main/aula18_09_2024.ipynb\" target=\"_parent\"><img src=\"https://colab.research.google.com/assets/colab-badge.svg\" alt=\"Open In Colab\"/></a>"
      ]
    },
    {
      "cell_type": "code",
      "execution_count": 55,
      "metadata": {
        "id": "mPKas33yBsKO"
      },
      "outputs": [],
      "source": [
        "import numpy as np\n",
        "import pandas as pd\n",
        "import matplotlib.pyplot as plt\n",
        "# Classificador\n",
        "from sklearn.linear_model import SGDClassifier\n",
        "# Seleção de dados de treino e teste\n",
        "from sklearn.model_selection import train_test_split\n",
        "# Exibir métricas\n",
        "from sklearn.metrics import confusion_matrix\n",
        "from sklearn import metrics\n",
        "# Vetorizador do texto\n",
        "from sklearn.feature_extraction.text import TfidfVectorizer"
      ]
    },
    {
      "cell_type": "code",
      "source": [
        "base = pd.read_csv('musicas.csv')\n",
        "base.head()\n",
        "\n",
        "# Estatísticas de cada coluna\n",
        "#base.describe()\n",
        "\n",
        "# Verificando as ultimas n linhas\n",
        "#base.tail(5)\n",
        "\n",
        "# Uma amostra aleatória da base de dados\n",
        "#base.sample()"
      ],
      "metadata": {
        "id": "8rNe-gXSC_KJ"
      },
      "execution_count": null,
      "outputs": []
    },
    {
      "cell_type": "code",
      "source": [
        "# Configurando as variáveis\n",
        "x = base['letra']\n",
        "y = base['cantorId']\n",
        "nomes = base['cantorNome'].unique()\n",
        "\n",
        "#print(x)\n",
        "#print(y)\n",
        "#print(nomes)\n",
        "\n",
        "# Convertendo todas as palavras para minusculas\n",
        "palavras = x.str.lower().str.split()"
      ],
      "metadata": {
        "id": "64wXdCvxEgVj"
      },
      "execution_count": null,
      "outputs": []
    },
    {
      "cell_type": "code",
      "source": [
        "# Criando um dicionário com todas as palavras da variável x (letras)\n",
        "dicionario = set()\n",
        "for i in palavras:\n",
        "  dicionario.update(i)\n",
        "\n",
        "minhasPalavras = dict(zip(dicionario, range(len(dicionario))))\n",
        "print(len(minhasPalavras), 'palavras')\n",
        "for i in range(0, 10):\n",
        "  print(list(minhasPalavras.items())[i])"
      ],
      "metadata": {
        "id": "4VzG8fS_GsMM"
      },
      "execution_count": null,
      "outputs": []
    },
    {
      "cell_type": "code",
      "source": [
        "# Separando dados de treino e teste, 30% para teste\n",
        "x_treino, x_teste, y_treino, y_teste = train_test_split(x, y, test_size=0.3, random_state=42, shuffle=True)\n",
        "\n",
        "# Vetorizando - letras para números\n",
        "txtvetorizador = TfidfVectorizer()\n",
        "\n",
        "valorXtreino = txtvetorizador.fit_transform(x_treino)"
      ],
      "metadata": {
        "id": "JFfdROE3H4cc"
      },
      "execution_count": null,
      "outputs": []
    },
    {
      "cell_type": "code",
      "source": [
        "# Treinando\n",
        "modelo = SGDClassifier(loss='hinge', penalty='l2', alpha=1e-3, random_state=42, max_iter=5, tol=None)\n",
        "modelo.fit(valorXtreino, y_treino)\n",
        "# Vetorizando os dados de teste\n",
        "vetorXteste = txtvetorizador.transform(x_teste)"
      ],
      "metadata": {
        "id": "IGS6_zC1JhCc"
      },
      "execution_count": null,
      "outputs": []
    },
    {
      "cell_type": "code",
      "source": [
        "# Previsão\n",
        "previsao = modelo.predict(vetorXteste)\n",
        "print(metrics.classification_report(y_teste.values, previsao, target_names=nomes))\n",
        "print(nomes, modelo.classes_)"
      ],
      "metadata": {
        "id": "IKyZRKW9KKs3"
      },
      "execution_count": null,
      "outputs": []
    },
    {
      "cell_type": "code",
      "source": [
        "# Métricas\n",
        "confusion_matrix = confusion_matrix(y_teste.values, previsao)\n",
        "print(confusion_matrix)"
      ],
      "metadata": {
        "id": "X-RY1lcXLTtA"
      },
      "execution_count": null,
      "outputs": []
    },
    {
      "cell_type": "code",
      "source": [
        "plt.matshow(confusion_matrix, cmap='RdBu_r')\n",
        "plt.title('Matriz de confusão')\n",
        "plt.colorbar()\n",
        "plt.ylabel('Classificações corretas')\n",
        "plt.xlabel('Classificações')"
      ],
      "metadata": {
        "id": "jfWPI42zNX1T"
      },
      "execution_count": null,
      "outputs": []
    },
    {
      "cell_type": "code",
      "source": [
        "print(nomes)\n",
        "pd.crosstab(y_teste, previsao, rownames=['Real'], colnames=['Previsto'], margins=True)"
      ],
      "metadata": {
        "id": "cjs2DuJ6NsxO"
      },
      "execution_count": null,
      "outputs": []
    },
    {
      "cell_type": "code",
      "source": [
        "# Testando o modelo com novas músicas\n",
        "novosTrechos = [\n",
        "    \"we used to say we live and let live\",\n",
        "    \"Proyecto de vida en comúnlLo sé todo el abismo que ves\",\n",
        "    \"Inch worm, inch worm. Measuring the marigolds\"\n",
        "]\n",
        "# Vetorizando\n",
        "novoVetor = txtvetorizador.transform(novosTrechos)\n",
        "previsao = modelo.predict(novoVetor)\n",
        "print('Previsões ')\n",
        "for trecho, artista in zip(novosTrechos, previsao):\n",
        "  print(f'Trecho : {trecho}')\n",
        "  print(f'Artista previsto : {nomes[artista]}')"
      ],
      "metadata": {
        "id": "zcOp1fiXOrpU"
      },
      "execution_count": null,
      "outputs": []
    }
  ]
}