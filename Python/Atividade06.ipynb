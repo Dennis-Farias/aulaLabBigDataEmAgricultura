{
  "nbformat": 4,
  "nbformat_minor": 0,
  "metadata": {
    "colab": {
      "provenance": [],
      "authorship_tag": "ABX9TyM4TD28d9sDjaw+9rRAGGID",
      "include_colab_link": true
    },
    "kernelspec": {
      "name": "python3",
      "display_name": "Python 3"
    },
    "language_info": {
      "name": "python"
    }
  },
  "cells": [
    {
      "cell_type": "markdown",
      "metadata": {
        "id": "view-in-github",
        "colab_type": "text"
      },
      "source": [
        "<a href=\"https://colab.research.google.com/github/Dennis-Farias/aulaLabBigDataEmAgricultura/blob/main/Atividade06.ipynb\" target=\"_parent\"><img src=\"https://colab.research.google.com/assets/colab-badge.svg\" alt=\"Open In Colab\"/></a>"
      ]
    },
    {
      "cell_type": "code",
      "execution_count": 51,
      "metadata": {
        "id": "FG1Fg2txSGqh"
      },
      "outputs": [],
      "source": [
        "import pandas as pd\n",
        "from sklearn.preprocessing import StandardScaler\n",
        "from sklearn.cluster import KMeans\n",
        "import matplotlib.pyplot as plt\n",
        "from sklearn.datasets import load_wine"
      ]
    },
    {
      "cell_type": "code",
      "source": [
        "vinho = load_wine()\n",
        "\n",
        "#print(vinho.target_names)\n",
        "#print(vinho.target)\n",
        "#print(vinho.data)"
      ],
      "metadata": {
        "id": "dMaA-QpcSt-l"
      },
      "execution_count": null,
      "outputs": []
    },
    {
      "cell_type": "code",
      "source": [
        "X = vinho.data\n",
        "scaler = StandardScaler()\n",
        "X = scaler.fit_transform(X)"
      ],
      "metadata": {
        "id": "KitNyQ_0TSZE"
      },
      "execution_count": 53,
      "outputs": []
    },
    {
      "cell_type": "code",
      "source": [
        "wcss = []\n",
        "for i in range(1, 11):\n",
        "    kmeans = KMeans(n_clusters=i, init='random')\n",
        "    kmeans.fit(X)\n",
        "    print(i, kmeans.inertia_)\n",
        "    wcss.append(kmeans.inertia_)\n",
        "plt.plot(range(1,11), wcss)\n",
        "plt.title('O Método Elbow')\n",
        "plt.xlabel('Número de Clusters')\n",
        "plt.ylabel('WSS') #within cluster sum of squares\n",
        "plt.show()"
      ],
      "metadata": {
        "id": "QDu2wknwTsNF"
      },
      "execution_count": null,
      "outputs": []
    },
    {
      "cell_type": "code",
      "source": [
        "# Aplicando o algoritmo K-means\n",
        "kmeans = KMeans(n_clusters=3, init='random')\n",
        "kmeans.fit(X)\n",
        "\n",
        "# Examinando os dados agrupados (centroides)\n",
        "#print(kmeans.cluster_centers_)\n",
        "\n",
        "distance = kmeans.fit_transform(X)\n",
        "#print(distance)\n",
        "\n",
        "# Conferindo os dados do cluster\n",
        "labels = kmeans.labels_\n",
        "print(labels)"
      ],
      "metadata": {
        "id": "zK1o1it1U4-l"
      },
      "execution_count": null,
      "outputs": []
    },
    {
      "cell_type": "code",
      "source": [
        "plt.scatter(X[:,6], X[:,12], s = 100, c = kmeans.labels_)\n",
        "plt.title('Vinhos Clusters and Centroids')\n",
        "plt.xlabel('flavanoids')\n",
        "plt.ylabel('proline')\n",
        "plt.legend()\n",
        "plt.show()"
      ],
      "metadata": {
        "id": "YQZHN054VxAq"
      },
      "execution_count": null,
      "outputs": []
    }
  ]
}