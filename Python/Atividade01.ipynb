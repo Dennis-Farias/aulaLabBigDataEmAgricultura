{
  "nbformat": 4,
  "nbformat_minor": 0,
  "metadata": {
    "colab": {
      "provenance": [],
      "authorship_tag": "ABX9TyOe8ptpHD+d5yxX3i4qufS/",
      "include_colab_link": true
    },
    "kernelspec": {
      "name": "python3",
      "display_name": "Python 3"
    },
    "language_info": {
      "name": "python"
    }
  },
  "cells": [
    {
      "cell_type": "markdown",
      "metadata": {
        "id": "view-in-github",
        "colab_type": "text"
      },
      "source": [
        "<a href=\"https://colab.research.google.com/github/Dennis-Farias/aulaLabBigDataEmAgricultura/blob/main/Atividade01.ipynb\" target=\"_parent\"><img src=\"https://colab.research.google.com/assets/colab-badge.svg\" alt=\"Open In Colab\"/></a>"
      ]
    },
    {
      "cell_type": "markdown",
      "source": [
        "# Atividade 1\n",
        "Faça um programa no Colab, que crie/gere uma lista capaz de armazenar 1000 idades de pessoas (valores entre 0 e 100). Mostre a idade média, a moda e a mediana. Considerando agora que precisaremos ter apenas idades de adultos (>=21), faça com que todas as idades menores que 21 sejam substituídas pela media das idades >= 21 anos."
      ],
      "metadata": {
        "id": "Md01boj-SwCP"
      }
    },
    {
      "cell_type": "code",
      "source": [
        "import random\n",
        "import pandas as pd"
      ],
      "metadata": {
        "id": "IlKTPwQVBDQK"
      },
      "execution_count": null,
      "outputs": []
    },
    {
      "cell_type": "code",
      "execution_count": null,
      "metadata": {
        "id": "_VsKVdwLA39F"
      },
      "outputs": [],
      "source": [
        "lista = []\n",
        "for i in range(1000):\n",
        "  lista.append(random.randint(0,100))\n",
        "lista = pd.Series(lista)"
      ]
    },
    {
      "cell_type": "code",
      "source": [
        "pd.set_option('display.max_rows', None)\n",
        "lista"
      ],
      "metadata": {
        "collapsed": true,
        "id": "sgY_c7rNSpdX"
      },
      "execution_count": null,
      "outputs": []
    },
    {
      "cell_type": "code",
      "source": [
        "media = lista.mean()\n",
        "print(f\"Média: {media}\")\n",
        "mediana = lista.median()\n",
        "print(f\"Mediana: {mediana}\")\n",
        "moda = lista.mode()\n",
        "print(f\"Moda: {moda.values}\")"
      ],
      "metadata": {
        "id": "wT-yw-wPDY8a"
      },
      "execution_count": null,
      "outputs": []
    },
    {
      "cell_type": "code",
      "source": [
        "adultos = []\n",
        "for i in range(1000):\n",
        "  if lista[i] >= 21:\n",
        "    adultos.append(lista[i])\n",
        "\n",
        "adultos = pd.Series(adultos)\n",
        "media_adultos = adultos.mean()\n",
        "print(f'Média dos adultos: {media_adultos}')"
      ],
      "metadata": {
        "id": "-FzpiB9MDdmW"
      },
      "execution_count": null,
      "outputs": []
    },
    {
      "cell_type": "code",
      "source": [
        "indice = 0\n",
        "for i in lista:\n",
        "  if i < 21:\n",
        "    lista[indice] = media_adultos\n",
        "  indice += 1\n",
        "lista"
      ],
      "metadata": {
        "id": "XTABNBp-HBKj"
      },
      "execution_count": null,
      "outputs": []
    }
  ]
}