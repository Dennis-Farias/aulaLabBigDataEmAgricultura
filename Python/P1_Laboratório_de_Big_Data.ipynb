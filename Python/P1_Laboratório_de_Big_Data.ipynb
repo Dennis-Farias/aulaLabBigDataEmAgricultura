{
  "nbformat": 4,
  "nbformat_minor": 0,
  "metadata": {
    "colab": {
      "provenance": [],
      "authorship_tag": "ABX9TyPsYzDWEhN34G8D68YdBAEz",
      "include_colab_link": true
    },
    "kernelspec": {
      "name": "python3",
      "display_name": "Python 3"
    },
    "language_info": {
      "name": "python"
    }
  },
  "cells": [
    {
      "cell_type": "markdown",
      "metadata": {
        "id": "view-in-github",
        "colab_type": "text"
      },
      "source": [
        "<a href=\"https://colab.research.google.com/github/Dennis-Farias/aulaLabBigDataEmAgricultura/blob/main/P1_Laborat%C3%B3rio_de_Big_Data.ipynb\" target=\"_parent\"><img src=\"https://colab.research.google.com/assets/colab-badge.svg\" alt=\"Open In Colab\"/></a>"
      ]
    },
    {
      "cell_type": "markdown",
      "source": [
        "# Classificação da Qualidade do Leite"
      ],
      "metadata": {
        "id": "XAbqcEc1cHiH"
      }
    },
    {
      "cell_type": "code",
      "execution_count": 1,
      "metadata": {
        "id": "TX8UxD1EKPDl"
      },
      "outputs": [],
      "source": [
        "import pandas as pd"
      ]
    },
    {
      "cell_type": "code",
      "source": [
        "base = pd.read_csv('milknew.csv')\n",
        "base.head()"
      ],
      "metadata": {
        "id": "bgctCtToKbdx"
      },
      "execution_count": null,
      "outputs": []
    },
    {
      "cell_type": "markdown",
      "source": [
        "Não há necessidade de utilizar o Label Encoder para fazer o pré-processamento, pois todos os atributos já são númericos"
      ],
      "metadata": {
        "id": "ISvukQvMf11S"
      }
    },
    {
      "cell_type": "code",
      "source": [
        "previsores = base.iloc[:, 0:7].values\n",
        "classe = base.iloc[:, 7].values"
      ],
      "metadata": {
        "id": "tOaePD-UYSVV"
      },
      "execution_count": 3,
      "outputs": []
    },
    {
      "cell_type": "code",
      "source": [
        "from sklearn.model_selection import train_test_split\n",
        "previsores_treinamento, previsores_teste, classe_treinamento, classe_teste = train_test_split(previsores, classe, test_size=0.3, random_state=1)"
      ],
      "metadata": {
        "id": "ryTAHavCYgax"
      },
      "execution_count": 4,
      "outputs": []
    },
    {
      "cell_type": "markdown",
      "source": [
        "## Naive Bayes"
      ],
      "metadata": {
        "id": "13JN6tHmb8IL"
      }
    },
    {
      "cell_type": "code",
      "source": [
        "from sklearn.naive_bayes import GaussianNB\n",
        "classificador = GaussianNB()\n",
        "classificador.fit(previsores_treinamento, classe_treinamento)"
      ],
      "metadata": {
        "id": "vtn0bxD6YxtR"
      },
      "execution_count": null,
      "outputs": []
    },
    {
      "cell_type": "code",
      "source": [
        "previsoes = classificador.predict(previsores_teste)"
      ],
      "metadata": {
        "id": "EFFVO3fbY1P1"
      },
      "execution_count": 6,
      "outputs": []
    },
    {
      "cell_type": "code",
      "source": [
        "from sklearn.metrics import accuracy_score, confusion_matrix\n",
        "matriz_confusao = confusion_matrix(classe_teste, previsoes)\n",
        "print(matriz_confusao)\n",
        "acuracia = accuracy_score(classe_teste, previsoes)\n",
        "print(f\"\\nO modelo Naive Bayes teve uma acurácia de: {acuracia:.2f}\")"
      ],
      "metadata": {
        "collapsed": true,
        "id": "iVOMVv91Y7y2"
      },
      "execution_count": null,
      "outputs": []
    },
    {
      "cell_type": "markdown",
      "source": [
        "## Random Forest"
      ],
      "metadata": {
        "id": "n-SP9r-HcB4p"
      }
    },
    {
      "cell_type": "code",
      "source": [
        "from sklearn.ensemble import RandomForestClassifier\n",
        "classificador_random_forest = RandomForestClassifier(n_estimators=100, random_state=1)\n",
        "classificador_random_forest.fit(previsores_treinamento, classe_treinamento)"
      ],
      "metadata": {
        "id": "0Gra06TBb0Qh"
      },
      "execution_count": null,
      "outputs": []
    },
    {
      "cell_type": "code",
      "source": [
        "previsoes_random_forest = classificador_random_forest.predict(previsores_teste)"
      ],
      "metadata": {
        "id": "WKDmJNCccNRI"
      },
      "execution_count": 9,
      "outputs": []
    },
    {
      "cell_type": "code",
      "source": [
        "from sklearn.metrics import accuracy_score, confusion_matrix\n",
        "matriz_confusao_random_forest = confusion_matrix(classe_teste, previsoes_random_forest)\n",
        "print(matriz_confusao_random_forest)\n",
        "acuracia_random_forest = accuracy_score(classe_teste, previsoes_random_forest)\n",
        "print(f\"\\nO modelo Random Forest teve uma acurácia de: {acuracia_random_forest:.2f}\")"
      ],
      "metadata": {
        "id": "Zt4_k3J4cdHp"
      },
      "execution_count": null,
      "outputs": []
    },
    {
      "cell_type": "markdown",
      "source": [
        "# Conclusão\n",
        "O modelo Random Forest teve uma acurácia superior ao modelo Naive Bayes, pois ele conseguiu acertar 100% das previsões."
      ],
      "metadata": {
        "id": "g487upsfd3Tf"
      }
    }
  ]
}