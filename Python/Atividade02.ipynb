{
  "nbformat": 4,
  "nbformat_minor": 0,
  "metadata": {
    "colab": {
      "provenance": [],
      "authorship_tag": "ABX9TyMkIKXKqEcZ4QpSPAUej3wT",
      "include_colab_link": true
    },
    "kernelspec": {
      "name": "python3",
      "display_name": "Python 3"
    },
    "language_info": {
      "name": "python"
    }
  },
  "cells": [
    {
      "cell_type": "markdown",
      "metadata": {
        "id": "view-in-github",
        "colab_type": "text"
      },
      "source": [
        "<a href=\"https://colab.research.google.com/github/Dennis-Farias/aulaLabBigDataEmAgricultura/blob/main/Atividade02.ipynb\" target=\"_parent\"><img src=\"https://colab.research.google.com/assets/colab-badge.svg\" alt=\"Open In Colab\"/></a>"
      ]
    },
    {
      "cell_type": "markdown",
      "source": [
        "# Atividade 2\n",
        "Tem um dataset a respeito de 4 grupos de doenças respiratórias: Doença Pulmonar Obstrutiva Crônica (DPOC), asma, infectados e controles saudáveis (HC). Neste dataset há muitos dados ausentes (NaN). Um dos dados do dataset é a idade (age) e, nesta coluna, localizar os dados ausentes e substitui-los pela média das idades existentes."
      ],
      "metadata": {
        "id": "nfGtBFzuSCgO"
      }
    },
    {
      "cell_type": "code",
      "source": [
        "import pandas as pd\n",
        "import numpy as np"
      ],
      "metadata": {
        "id": "Z51tK-kYSfCQ"
      },
      "execution_count": 1,
      "outputs": []
    },
    {
      "cell_type": "code",
      "source": [
        "dados = pd.read_csv('Exasens.csv')\n",
        "dados"
      ],
      "metadata": {
        "id": "p9agqFaVTzk_"
      },
      "execution_count": null,
      "outputs": []
    },
    {
      "cell_type": "code",
      "source": [
        "media_idade = dados['Age'].dropna().mean()\n",
        "media_idade"
      ],
      "metadata": {
        "id": "cqHbcGZSUJXl"
      },
      "execution_count": null,
      "outputs": []
    },
    {
      "cell_type": "code",
      "source": [
        "dados['Age'].fillna(media_idade)\n",
        "dados"
      ],
      "metadata": {
        "id": "oSf3tElQVbt2"
      },
      "execution_count": null,
      "outputs": []
    }
  ]
}