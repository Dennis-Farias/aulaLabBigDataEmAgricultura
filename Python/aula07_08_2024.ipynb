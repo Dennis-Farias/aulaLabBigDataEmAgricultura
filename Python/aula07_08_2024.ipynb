{
  "cells": [
    {
      "cell_type": "markdown",
      "metadata": {
        "id": "view-in-github",
        "colab_type": "text"
      },
      "source": [
        "<a href=\"https://colab.research.google.com/github/Dennis-Farias/aulaLabBigDataEmAgricultura/blob/main/aula07_08_2024.ipynb\" target=\"_parent\"><img src=\"https://colab.research.google.com/assets/colab-badge.svg\" alt=\"Open In Colab\"/></a>"
      ]
    },
    {
      "cell_type": "code",
      "execution_count": null,
      "metadata": {
        "colab": {
          "background_save": true
        },
        "id": "fWYsQmoy98HF"
      },
      "outputs": [],
      "source": [
        "def ler_fasta(arquivo):\n",
        "    sequencia = ''\n",
        "    lista = []\n",
        "    with open(arquivo, 'r') as fasta:\n",
        "        for linha in fasta:\n",
        "            sequencia = ''\n",
        "            if not linha.startswith('>'):\n",
        "                sequencia += linha\n",
        "            lista.append(sequencia)\n",
        "\n",
        "    return lista\n",
        "\n",
        "lista = ler_fasta('sequence.fasta')\n",
        "for i in lista:\n",
        "    print(i)"
      ]
    }
  ],
  "metadata": {
    "colab": {
      "provenance": [],
      "authorship_tag": "ABX9TyM4tuMOAZOSMFb/KQwKxBIc",
      "include_colab_link": true
    },
    "kernelspec": {
      "display_name": "Python 3",
      "name": "python3"
    },
    "language_info": {
      "name": "python"
    }
  },
  "nbformat": 4,
  "nbformat_minor": 0
}