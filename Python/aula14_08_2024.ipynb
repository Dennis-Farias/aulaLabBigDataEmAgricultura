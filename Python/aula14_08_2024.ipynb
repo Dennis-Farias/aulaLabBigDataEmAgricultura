{
  "nbformat": 4,
  "nbformat_minor": 0,
  "metadata": {
    "colab": {
      "provenance": [],
      "authorship_tag": "ABX9TyMQaoN8yPL9D+ZSIatS2ONj",
      "include_colab_link": true
    },
    "kernelspec": {
      "name": "python3",
      "display_name": "Python 3"
    },
    "language_info": {
      "name": "python"
    }
  },
  "cells": [
    {
      "cell_type": "markdown",
      "metadata": {
        "id": "view-in-github",
        "colab_type": "text"
      },
      "source": [
        "<a href=\"https://colab.research.google.com/github/Dennis-Farias/aulaLabBigDataEmAgricultura/blob/main/aula14_08_2024.ipynb\" target=\"_parent\"><img src=\"https://colab.research.google.com/assets/colab-badge.svg\" alt=\"Open In Colab\"/></a>"
      ]
    },
    {
      "cell_type": "markdown",
      "source": [
        "# Limpeza e preparação de dados em Python"
      ],
      "metadata": {
        "id": "ljc5TfylMBn3"
      }
    },
    {
      "cell_type": "markdown",
      "source": [
        "## Tratando dados ausentes"
      ],
      "metadata": {
        "id": "3RTxdoszLzsA"
      }
    },
    {
      "cell_type": "code",
      "execution_count": null,
      "metadata": {
        "id": "m8OI3AFyxJuf"
      },
      "outputs": [],
      "source": [
        "import pandas as pd\n",
        "import numpy as np\n",
        "\n",
        "str = pd.Series(['Mauricio', 'FATEC', np.nan, 'Professor'])\n",
        "str"
      ]
    },
    {
      "cell_type": "code",
      "source": [
        "str[0] = None\n",
        "str.isnull()"
      ],
      "metadata": {
        "id": "FvK8zESA3Uv-"
      },
      "execution_count": null,
      "outputs": []
    },
    {
      "cell_type": "code",
      "source": [
        "from numpy import nan as NA\n",
        "notas = pd.Series([7.5, NA, 3.5, NA, 9.3])\n",
        "notas.dropna()"
      ],
      "metadata": {
        "id": "f_nZ5Ukvytfm"
      },
      "execution_count": null,
      "outputs": []
    },
    {
      "cell_type": "code",
      "source": [
        "dados = pd.DataFrame([['Ana', 7.5, 8.5], ['Luis', NA, NA], [NA, NA, NA], ['Maria', 6.5, NA]])\n",
        "dados"
      ],
      "metadata": {
        "id": "6j226Bpl0TqL"
      },
      "execution_count": null,
      "outputs": []
    },
    {
      "cell_type": "code",
      "source": [
        "dados_limpos = dados.dropna()\n",
        "dados_limpos"
      ],
      "metadata": {
        "id": "eH4DaduI10mA"
      },
      "execution_count": null,
      "outputs": []
    },
    {
      "cell_type": "code",
      "source": [
        "dados.dropna(how='all')"
      ],
      "metadata": {
        "id": "RE4XnSEz20kV"
      },
      "execution_count": null,
      "outputs": []
    },
    {
      "cell_type": "code",
      "source": [
        "dados[4] = NA\n",
        "dados"
      ],
      "metadata": {
        "id": "bcXR_ASa3L7L"
      },
      "execution_count": null,
      "outputs": []
    },
    {
      "cell_type": "code",
      "source": [
        "dados.dropna(axis=1, how='all')"
      ],
      "metadata": {
        "id": "ebH-zVML3389"
      },
      "execution_count": null,
      "outputs": []
    },
    {
      "cell_type": "code",
      "source": [
        "df = pd.DataFrame(np.random.randn(6, 3))\n",
        "df"
      ],
      "metadata": {
        "id": "72_gpzBm4i5a"
      },
      "execution_count": null,
      "outputs": []
    },
    {
      "cell_type": "code",
      "source": [
        "df.iloc[:4, 1] = NA\n",
        "df.iloc[:2, 2] = NA\n",
        "df"
      ],
      "metadata": {
        "id": "vuLyEmcn6Uui"
      },
      "execution_count": null,
      "outputs": []
    },
    {
      "cell_type": "code",
      "source": [
        "df.dropna(thresh=2)"
      ],
      "metadata": {
        "id": "mZpzQtXU6uDR"
      },
      "execution_count": null,
      "outputs": []
    },
    {
      "cell_type": "code",
      "source": [
        "df.fillna(0)"
      ],
      "metadata": {
        "id": "eR9ReOs47VNk"
      },
      "execution_count": null,
      "outputs": []
    },
    {
      "cell_type": "markdown",
      "source": [
        "### Exercício 1\n",
        "Crie uma Series com 10 notas reais... Coloque em algumas delas NA (dados ausentes)... Mostre a Series... Após isso, usando o método fillnam substitua os dados ausentes pela média das notas.\n",
        "Tente usar para o cálculo da média, apenas as notas válidas."
      ],
      "metadata": {
        "id": "R4t_Es8E9kDy"
      }
    },
    {
      "cell_type": "code",
      "source": [
        "notas = pd.Series([7.5, NA, 3.5, NA, 9.3, 5.2, 10, NA, 2.7, 4.7])\n",
        "notas"
      ],
      "metadata": {
        "id": "GT3Ukip180Yo"
      },
      "execution_count": null,
      "outputs": []
    },
    {
      "cell_type": "code",
      "source": [
        "notas_limpas = notas.dropna()\n",
        "notas_limpas"
      ],
      "metadata": {
        "id": "i6-rLKpV9HTb"
      },
      "execution_count": null,
      "outputs": []
    },
    {
      "cell_type": "code",
      "source": [
        "media_notas = notas_limpas.mean()\n",
        "media_notas = \"{:.1f}\".format(media_notas)\n",
        "media_notas"
      ],
      "metadata": {
        "id": "dkjEZsjc9WBs"
      },
      "execution_count": null,
      "outputs": []
    },
    {
      "cell_type": "code",
      "source": [
        "notas.fillna(media_notas)"
      ],
      "metadata": {
        "id": "qCqAPZs89ZZu"
      },
      "execution_count": null,
      "outputs": []
    },
    {
      "cell_type": "markdown",
      "source": [
        "## Detectando valores discrepantes"
      ],
      "metadata": {
        "id": "FCPYra0wL93L"
      }
    },
    {
      "cell_type": "code",
      "source": [
        "numeros = pd.DataFrame(np.random.randn(1000, 4))\n",
        "numeros.describe()"
      ],
      "metadata": {
        "id": "utinjWT7MW4h"
      },
      "execution_count": null,
      "outputs": []
    },
    {
      "cell_type": "code",
      "source": [
        "col = numeros[2]\n",
        "col[np.abs(col) > 3]"
      ],
      "metadata": {
        "id": "HU4bebR-M5uH"
      },
      "execution_count": null,
      "outputs": []
    },
    {
      "cell_type": "code",
      "source": [
        "numeros[(np.abs(numeros) > 3).any(axis=1)]"
      ],
      "metadata": {
        "id": "S4cwlqfRNICK"
      },
      "execution_count": null,
      "outputs": []
    },
    {
      "cell_type": "code",
      "source": [
        "numeros[np.abs(numeros) > 3] = np.sign(numeros) * 3\n",
        "numeros.describe()"
      ],
      "metadata": {
        "id": "Ys54iVauPEiv"
      },
      "execution_count": null,
      "outputs": []
    }
  ]
}