{
  "cells": [
    {
      "cell_type": "markdown",
      "metadata": {
        "id": "view-in-github",
        "colab_type": "text"
      },
      "source": [
        "<a href=\"https://colab.research.google.com/github/Dennis-Farias/aulaLabBigDataEmAgricultura/blob/main/aula28_08_2024.ipynb\" target=\"_parent\"><img src=\"https://colab.research.google.com/assets/colab-badge.svg\" alt=\"Open In Colab\"/></a>"
      ]
    },
    {
      "cell_type": "code",
      "execution_count": null,
      "metadata": {
        "id": "kb3JRqCb3Ldk"
      },
      "outputs": [],
      "source": [
        "import pandas as pd"
      ]
    },
    {
      "cell_type": "code",
      "execution_count": null,
      "metadata": {
        "id": "h7dJkvNC3nOU"
      },
      "outputs": [],
      "source": [
        "base = pd.read_csv('/content/adult.data')\n",
        "base.head()"
      ]
    },
    {
      "cell_type": "code",
      "execution_count": null,
      "metadata": {
        "id": "h5sNJIFD55cX"
      },
      "outputs": [],
      "source": [
        "previsores = base.iloc[:, 0:14].values\n",
        "classe = base.iloc[:, 14].values"
      ]
    },
    {
      "cell_type": "code",
      "execution_count": null,
      "metadata": {
        "id": "UUEquDZe6ijl"
      },
      "outputs": [],
      "source": [
        "previsores"
      ]
    },
    {
      "cell_type": "code",
      "execution_count": null,
      "metadata": {
        "id": "v5nfI4Pf6jR2"
      },
      "outputs": [],
      "source": [
        "classe"
      ]
    },
    {
      "cell_type": "code",
      "execution_count": null,
      "metadata": {
        "id": "tb3aQpLi6wJp"
      },
      "outputs": [],
      "source": [
        "from sklearn.preprocessing import LabelEncoder\n",
        "label_previsores = LabelEncoder()\n",
        "label_classe = LabelEncoder()"
      ]
    },
    {
      "cell_type": "code",
      "execution_count": null,
      "metadata": {
        "id": "-oP_i7II7z-8"
      },
      "outputs": [],
      "source": [
        "previsores[:, 1] = label_previsores.fit_transform(previsores[:, 1])\n",
        "previsores[:, 3] = label_previsores.fit_transform(previsores[:, 3])\n",
        "previsores[:, 5] = label_previsores.fit_transform(previsores[:, 5])\n",
        "previsores[:, 6] = label_previsores.fit_transform(previsores[:, 6])\n",
        "previsores[:, 7] = label_previsores.fit_transform(previsores[:, 7])\n",
        "previsores[:, 8] = label_previsores.fit_transform(previsores[:, 8])\n",
        "previsores[:, 9] = label_previsores.fit_transform(previsores[:, 9])\n",
        "previsores[:, 13] = label_previsores.fit_transform(previsores[:, 13])\n",
        "previsores"
      ]
    },
    {
      "cell_type": "code",
      "execution_count": null,
      "metadata": {
        "id": "oYpZB1iO9pEF"
      },
      "outputs": [],
      "source": [
        "from sklearn.preprocessing import StandardScaler\n",
        "scaler = StandardScaler()\n",
        "previsores = scaler.fit_transform(previsores)\n",
        "previsores"
      ]
    },
    {
      "cell_type": "code",
      "execution_count": null,
      "metadata": {
        "id": "XKbtn81j-fGh"
      },
      "outputs": [],
      "source": [
        "from sklearn.model_selection import train_test_split\n",
        "previsores_treinamento, previsores_teste, classe_treinamento, classe_teste = train_test_split(previsores, classe, test_size=0.15, random_state=0)"
      ]
    },
    {
      "cell_type": "code",
      "execution_count": null,
      "metadata": {
        "id": "IHtc00vqANrT"
      },
      "outputs": [],
      "source": [
        "from sklearn.naive_bayes import GaussianNB\n",
        "classificador = GaussianNB()\n",
        "classificador.fit(previsores_treinamento, classe_treinamento)\n",
        "previsores = classificador.predict(previsores_teste)\n",
        "previsores"
      ]
    },
    {
      "cell_type": "code",
      "execution_count": null,
      "metadata": {
        "id": "IqF0lYtFBdjQ"
      },
      "outputs": [],
      "source": [
        "from sklearn.metrics import confusion_matrix\n",
        "matriz = confusion_matrix(classe_teste, previsores)\n",
        "print(matriz)"
      ]
    },
    {
      "cell_type": "code",
      "source": [
        "from sklearn.metrics import accuracy_score, precision_score, recall_score\n",
        "# Calculando a acurácia\n",
        "acuracia = accuracy_score(classe_teste, previsores)\n",
        "\n",
        "# Calculando a precisão\n",
        "precisao = precision_score(classe_teste, previsores, pos_label=' >50K')\n",
        "\n",
        "# Calculando a sensibilidade (recall)\n",
        "sensibilidade = recall_score(classe_teste, previsores, pos_label=' >50K')\n",
        "\n",
        "print(\"Acurácia:\", acuracia)\n",
        "print(\"Precisão:\", precisao)\n",
        "print(\"Sensibilidade:\", sensibilidade)"
      ],
      "metadata": {
        "colab": {
          "base_uri": "https://localhost:8080/"
        },
        "id": "118GbpzwVmqC",
        "outputId": "b504c211-2ae0-4e29-b8d3-00224e5d884d"
      },
      "execution_count": 47,
      "outputs": [
        {
          "output_type": "stream",
          "name": "stdout",
          "text": [
            "Acurácia: 0.8065110565110565\n",
            "Precisão: 0.6717557251908397\n",
            "Sensibilidade: 0.3128888888888889\n"
          ]
        }
      ]
    }
  ],
  "metadata": {
    "colab": {
      "provenance": [],
      "authorship_tag": "ABX9TyOJTaQPg1IPvuKslqxWEBHA",
      "include_colab_link": true
    },
    "kernelspec": {
      "display_name": "Python 3",
      "name": "python3"
    },
    "language_info": {
      "name": "python"
    }
  },
  "nbformat": 4,
  "nbformat_minor": 0
}